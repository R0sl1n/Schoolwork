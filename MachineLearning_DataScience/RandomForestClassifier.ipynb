{
 "cells": [
  {
   "cell_type": "markdown",
   "id": "40350214",
   "metadata": {},
   "source": [
    "# Innlevering 1 - DAT801"
   ]
  },
  {
   "cell_type": "markdown",
   "id": "4d3b766a",
   "metadata": {},
   "source": [
    "1. Her lastes det inn nødvendige biblioteker."
   ]
  },
  {
   "cell_type": "code",
   "execution_count": null,
   "id": "cfb4da8c",
   "metadata": {},
   "outputs": [],
   "source": [
    "%matplotlib inline\n",
    "import numpy as np, pandas as pd, matplotlib.pyplot as plt\n",
    "from pathlib import Path\n",
    "from sklearn.ensemble import RandomForestClassifier\n",
    "from sklearn.metrics import accuracy_score\n",
    "from sklearn.model_selection import GridSearchCV\n",
    "from sklearn.preprocessing import StandardScaler, MinMaxScaler\n",
    "from sklearn.metrics import confusion_matrix\n",
    "from sklearn.impute import SimpleImputer\n",
    "from sklearn.pipeline import Pipeline"
   ]
  },
  {
   "cell_type": "markdown",
   "id": "6e58dda2",
   "metadata": {},
   "source": [
    "2. Her settes path til lokal maskin og datasettene leses inn som pandas dataframes. "
   ]
  },
  {
   "cell_type": "code",
   "execution_count": null,
   "id": "de2e973e",
   "metadata": {},
   "outputs": [],
   "source": [
    "NB_DIR = Path.cwd()\n",
    "DATA = NB_DIR/'data'\n",
    "DATA.mkdir(exist_ok=True)"
   ]
  },
  {
   "cell_type": "code",
   "execution_count": null,
   "id": "c0667d8d",
   "metadata": {},
   "outputs": [],
   "source": [
    "train = pd.read_csv(DATA/'train.csv')\n",
    "test = pd.read_csv(DATA/'test.csv')\n",
    "sampleSubmission = pd.read_csv(DATA/'sample_submission.csv')"
   ]
  },
  {
   "cell_type": "markdown",
   "id": "4d489372",
   "metadata": {},
   "source": [
    "3. Kikker på histogram for å få et innblikk i hvilke targets som har høyest representasjon, før datasettet formateres i features og targets, samt fjerner id kolonnen fra features."
   ]
  },
  {
   "cell_type": "code",
   "execution_count": null,
   "id": "09193fd1",
   "metadata": {},
   "outputs": [],
   "source": [
    "train[\"target\"].hist()\n",
    "plt.show()"
   ]
  },
  {
   "cell_type": "code",
   "execution_count": null,
   "id": "5432ea9c",
   "metadata": {},
   "outputs": [],
   "source": [
    "corr = train.corr() #Sjekker korrelasjon mellom features for å eventuelt selektere bort features.\n",
    "corr.style.background_gradient(cmap='coolwarm', axis=None)"
   ]
  },
  {
   "cell_type": "code",
   "execution_count": null,
   "id": "d184216a",
   "metadata": {},
   "outputs": [],
   "source": [
    "corr_matrix = train.corr() #sjekker korrelasjon mellom features og target.\n",
    "print(corr_matrix[\"target\"].sort_values(ascending=False))"
   ]
  },
  {
   "cell_type": "code",
   "execution_count": null,
   "id": "7f2c9a7d",
   "metadata": {},
   "outputs": [],
   "source": [
    "X_train = train.drop([\"id\", \"target\"], axis = 1)"
   ]
  },
  {
   "cell_type": "code",
   "execution_count": null,
   "id": "2254aa21",
   "metadata": {},
   "outputs": [],
   "source": [
    "y_train = train[\"target\"].values"
   ]
  },
  {
   "cell_type": "code",
   "execution_count": null,
   "id": "a5d7e9ca",
   "metadata": {},
   "outputs": [],
   "source": [
    "X_test = test.drop([\"id\"], axis = 1)"
   ]
  },
  {
   "cell_type": "code",
   "execution_count": null,
   "id": "c0ebc9cc",
   "metadata": {},
   "outputs": [],
   "source": [
    "X_train.info()"
   ]
  },
  {
   "cell_type": "code",
   "execution_count": null,
   "id": "424785fd",
   "metadata": {},
   "outputs": [],
   "source": [
    "np.info(y_train)"
   ]
  },
  {
   "cell_type": "code",
   "execution_count": null,
   "id": "2c838713",
   "metadata": {},
   "outputs": [],
   "source": [
    "X_test.info"
   ]
  },
  {
   "cell_type": "markdown",
   "id": "21ab4a20",
   "metadata": {},
   "source": [
    "4. Her imputeres det manglende verdier i datasettet ved å bruke median verdi. "
   ]
  },
  {
   "cell_type": "code",
   "execution_count": null,
   "id": "72c9f207",
   "metadata": {},
   "outputs": [],
   "source": [
    "imp = SimpleImputer(strategy = \"median\")"
   ]
  },
  {
   "cell_type": "code",
   "execution_count": null,
   "id": "71873e42",
   "metadata": {},
   "outputs": [],
   "source": [
    "X_train_imputed = imp.fit_transform(X_train)"
   ]
  },
  {
   "cell_type": "code",
   "execution_count": null,
   "id": "a317a247",
   "metadata": {},
   "outputs": [],
   "source": [
    "X_test_imputed = imp.transform(X_test)"
   ]
  },
  {
   "cell_type": "markdown",
   "id": "e5c00233",
   "metadata": {},
   "source": [
    "5. Her skaleres datasettet med Standardscaler."
   ]
  },
  {
   "cell_type": "code",
   "execution_count": null,
   "id": "ab9f1d34",
   "metadata": {},
   "outputs": [],
   "source": [
    "std = StandardScaler()"
   ]
  },
  {
   "cell_type": "code",
   "execution_count": null,
   "id": "cf34c35e",
   "metadata": {},
   "outputs": [],
   "source": [
    "X_train_std = std.fit_transform(X_train_imputed)"
   ]
  },
  {
   "cell_type": "code",
   "execution_count": null,
   "id": "260670cb",
   "metadata": {},
   "outputs": [],
   "source": [
    "X_train_std = pd.DataFrame(data=X_train_std,columns=X_train.columns )"
   ]
  },
  {
   "cell_type": "code",
   "execution_count": null,
   "id": "07190592",
   "metadata": {},
   "outputs": [],
   "source": [
    "X_test_std = std.transform(X_test_imputed)"
   ]
  },
  {
   "cell_type": "markdown",
   "id": "85e572e6",
   "metadata": {},
   "source": [
    "6. Kikker på datasettet etter det er blitt imputert og skalert."
   ]
  },
  {
   "cell_type": "code",
   "execution_count": null,
   "id": "e27ede66",
   "metadata": {},
   "outputs": [],
   "source": [
    "X_train_std.info()"
   ]
  },
  {
   "cell_type": "code",
   "execution_count": null,
   "id": "3317ae1f",
   "metadata": {},
   "outputs": [],
   "source": [
    "X_train_std.head()"
   ]
  },
  {
   "cell_type": "code",
   "execution_count": null,
   "id": "fb70aeec",
   "metadata": {},
   "outputs": [],
   "source": [
    "X_train_std.describe()"
   ]
  },
  {
   "cell_type": "markdown",
   "id": "6e1bb770",
   "metadata": {},
   "source": [
    "7. Bruker RandomForestClassifier som modell, og kjører GridSearchCV for å finne beste parametre for modellen. Bruker så disse for å predikere på testdatasettet."
   ]
  },
  {
   "cell_type": "code",
   "execution_count": null,
   "id": "b7233177",
   "metadata": {},
   "outputs": [],
   "source": [
    "rf = RandomForestClassifier()"
   ]
  },
  {
   "cell_type": "code",
   "execution_count": null,
   "id": "fd8efe7a",
   "metadata": {},
   "outputs": [],
   "source": [
    "param_grid = {\"n_estimators\": [800],\n",
    "             \"max_depth\": [18],\n",
    "             \"max_features\": [5],\n",
    "             \"min_samples_leaf\": [3],\n",
    "             \"min_samples_split\": [10],\n",
    "             \"criterion\": [\"gini\", \"entropy\"]\n",
    "             }"
   ]
  },
  {
   "cell_type": "code",
   "execution_count": null,
   "id": "019bc95b",
   "metadata": {},
   "outputs": [],
   "source": [
    "gs_reg = GridSearchCV(estimator=rf, param_grid = param_grid, cv=3, verbose=1, n_jobs=-1)"
   ]
  },
  {
   "cell_type": "code",
   "execution_count": null,
   "id": "ff04ff69",
   "metadata": {},
   "outputs": [],
   "source": [
    "gs_reg.fit(X_train_std, y_train)"
   ]
  },
  {
   "cell_type": "code",
   "execution_count": null,
   "id": "675bc87d",
   "metadata": {},
   "outputs": [],
   "source": [
    "best_reg = gs_reg.best_estimator_"
   ]
  },
  {
   "cell_type": "code",
   "execution_count": null,
   "id": "d65f38a8",
   "metadata": {},
   "outputs": [],
   "source": [
    "best_reg.get_params()"
   ]
  },
  {
   "cell_type": "code",
   "execution_count": null,
   "id": "53fc8522",
   "metadata": {},
   "outputs": [],
   "source": [
    "y_pred_best = best_reg.predict(X_test_std)"
   ]
  },
  {
   "cell_type": "code",
   "execution_count": null,
   "id": "3218ddd4",
   "metadata": {},
   "outputs": [],
   "source": [
    "y_pred_best"
   ]
  },
  {
   "cell_type": "markdown",
   "id": "b1a2082b",
   "metadata": {},
   "source": [
    "8. Lager submissionfilen ved å hente ut id fra testfilen supplert, og knytte det deretter sammen med predikasjoner produsert i en dataframe, før den konverteres til en excelfil som skal lastes opp hos Kaggle."
   ]
  },
  {
   "cell_type": "code",
   "execution_count": null,
   "id": "867139e8",
   "metadata": {},
   "outputs": [],
   "source": [
    "submission = pd.DataFrame({'id': test['id'], 'target': y_pred_best})"
   ]
  },
  {
   "cell_type": "code",
   "execution_count": null,
   "id": "b8561b1b",
   "metadata": {},
   "outputs": [],
   "source": [
    "submission.head()"
   ]
  },
  {
   "cell_type": "code",
   "execution_count": null,
   "id": "b26ae80b",
   "metadata": {},
   "outputs": [],
   "source": [
    "submission.to_csv('submission_lkk_9.csv', index=False)"
   ]
  },
  {
   "cell_type": "markdown",
   "id": "7239b26f",
   "metadata": {},
   "source": [
    "Final notes. Dersom dette hadde blitt levert som 1 datasett(1 fil, og ikke noe Kaggle konkurranse), ville jeg brukt stratifisert train,test,split på datasettet. Jeg ville da ha rensket i nullverdier/korrelerte features og lignende før jeg hadde splittet opp datasettet.\n",
    "\n",
    "Jeg ville da også hatt muligheten for å score underveis, samt laget en confusion matrix for å se på treffsikkerheten til modellen min med TP, FP, TN, FN. Med tanke på at jeg nå ikke har en y_test tilgjengelig å sammenligne med på måten jeg har løst oppgaven min, så får jeg ikke gjort dette. Hadde jeg hatt bedre tid, ville jeg også ha testet stacking av modeller sammen med en booster og trent modellen på nytt. \n",
    "\n",
    "Jeg har i ulike notebooks testet alt fra Voting ensembles til pycaret. Jeg legger ved disse notebookene i tillegg til denne, bare slik at du kan se hva jeg har holdt på å utforske i andre tilfeller som ikke har vært helt vellykket. Grunnen til at disse ikke har ført frem, er at jeg har vært litt for ambisiøs i mine intensjoner om å stacke og optimalisere, og all tiden det samlet har tatt å trene ulike modeller, for så å kræsje eller aldri bli ferdig har gjort meg en del erfaringer rikere og innehaver av noen ekstra grå hår. :-) "
   ]
  },
  {
   "cell_type": "code",
   "execution_count": null,
   "id": "81195b1b",
   "metadata": {},
   "outputs": [],
   "source": []
  }
 ],
 "metadata": {
  "kernelspec": {
   "display_name": "DAT801",
   "language": "python",
   "name": "dat801"
  },
  "language_info": {
   "codemirror_mode": {
    "name": "ipython",
    "version": 3
   },
   "file_extension": ".py",
   "mimetype": "text/x-python",
   "name": "python",
   "nbconvert_exporter": "python",
   "pygments_lexer": "ipython3",
   "version": "3.9.7"
  }
 },
 "nbformat": 4,
 "nbformat_minor": 5
}
